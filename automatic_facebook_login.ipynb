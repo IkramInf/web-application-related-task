{
 "cells": [
  {
   "cell_type": "code",
   "execution_count": 8,
   "metadata": {},
   "outputs": [],
   "source": [
    "from selenium import webdriver\n",
    "from selenium.webdriver.support.ui import WebDriverWait\n",
    "# download chromedriver from the link below\n",
    "# https://sites.google.com/a/chromium.org/chromedriver/home\n",
    "\n",
    "driver = webdriver.Chrome(\"/home/ikraminf/web-apps/chromedriver\") # path of the chromedriver or chromedriver.exe\n",
    "\n",
    "driver.maximize_window()\n",
    "\n",
    "# Step 2) Navigate to Facebook\n",
    "driver.get(\"http://www.facebook.com\")\n",
    "\n",
    "# Step 3) Search & Enter the Email or Phone field & Enter Password\n",
    "\n",
    "username = driver.find_element_by_id(\"email\")\n",
    "password = driver.find_element_by_id(\"pass\")\n",
    "submit   = driver.find_element_by_id(\"u_0_b\")\n",
    "username.send_keys(\"your email or phone number\") # as like xyz@gmail.com\n",
    "password.send_keys(\"your password\") # as like 1234567\n",
    "# Step 4) Click Login\n",
    "submit.click()\n",
    "\n",
    "# Reference : Falcon Infomatic"
   ]
  },
  {
   "cell_type": "code",
   "execution_count": null,
   "metadata": {},
   "outputs": [],
   "source": []
  }
 ],
 "metadata": {
  "kernelspec": {
   "display_name": "Python 3",
   "language": "python",
   "name": "python3"
  },
  "language_info": {
   "codemirror_mode": {
    "name": "ipython",
    "version": 3
   },
   "file_extension": ".py",
   "mimetype": "text/x-python",
   "name": "python",
   "nbconvert_exporter": "python",
   "pygments_lexer": "ipython3",
   "version": "3.7.4"
  }
 },
 "nbformat": 4,
 "nbformat_minor": 2
}
